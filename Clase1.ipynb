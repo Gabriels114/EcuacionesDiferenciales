{
 "cells": [
  {
   "cell_type": "code",
   "id": "initial_id",
   "metadata": {
    "collapsed": true,
    "ExecuteTime": {
     "end_time": "2024-08-01T18:12:10.009673Z",
     "start_time": "2024-08-01T18:12:09.246391Z"
    }
   },
   "source": [
    "import numpy as np\n",
    "import matplotlib.pyplot as plt\n",
    "import pandas as pd\n",
    "import scipy as sp\n"
   ],
   "outputs": [],
   "execution_count": 9
  },
  {
   "metadata": {
    "ExecuteTime": {
     "end_time": "2024-08-01T18:12:46.044215Z",
     "start_time": "2024-08-01T18:12:46.018829Z"
    }
   },
   "cell_type": "code",
   "source": [
    "D = np.loadtxt('oax_qro.txt')\n",
    "f = D[:, 2] #queretaro  "
   ],
   "id": "70d0ddcba689b4d5",
   "outputs": [
    {
     "ename": "IndexError",
     "evalue": "index 2 is out of bounds for axis 1 with size 2",
     "output_type": "error",
     "traceback": [
      "\u001B[1;31m---------------------------------------------------------------------------\u001B[0m",
      "\u001B[1;31mIndexError\u001B[0m                                Traceback (most recent call last)",
      "Cell \u001B[1;32mIn[13], line 2\u001B[0m\n\u001B[0;32m      1\u001B[0m D \u001B[38;5;241m=\u001B[39m np\u001B[38;5;241m.\u001B[39mloadtxt(\u001B[38;5;124m'\u001B[39m\u001B[38;5;124moax_qro.txt\u001B[39m\u001B[38;5;124m'\u001B[39m)\n\u001B[1;32m----> 2\u001B[0m f \u001B[38;5;241m=\u001B[39m D[:, \u001B[38;5;241m2\u001B[39m]\n",
      "\u001B[1;31mIndexError\u001B[0m: index 2 is out of bounds for axis 1 with size 2"
     ]
    }
   ],
   "execution_count": 13
  },
  {
   "metadata": {
    "ExecuteTime": {
     "end_time": "2024-08-01T18:12:10.062291Z",
     "start_time": "2024-08-01T18:12:10.016506Z"
    }
   },
   "cell_type": "code",
   "source": [
    "#derivada numerica\n",
    "h = 1\n",
    "a = 1\n",
    "df = ( f[a+h] - f[a] )/h"
   ],
   "id": "b1d14ac5cd218779",
   "outputs": [
    {
     "ename": "IndexError",
     "evalue": "index 2 is out of bounds for axis 0 with size 2",
     "output_type": "error",
     "traceback": [
      "\u001B[1;31m---------------------------------------------------------------------------\u001B[0m",
      "\u001B[1;31mIndexError\u001B[0m                                Traceback (most recent call last)",
      "Cell \u001B[1;32mIn[11], line 4\u001B[0m\n\u001B[0;32m      2\u001B[0m h \u001B[38;5;241m=\u001B[39m \u001B[38;5;241m1\u001B[39m\n\u001B[0;32m      3\u001B[0m a \u001B[38;5;241m=\u001B[39m \u001B[38;5;241m1\u001B[39m\n\u001B[1;32m----> 4\u001B[0m df \u001B[38;5;241m=\u001B[39m ( f[a\u001B[38;5;241m+\u001B[39mh] \u001B[38;5;241m-\u001B[39m f[a] )\u001B[38;5;241m/\u001B[39mh\n",
      "\u001B[1;31mIndexError\u001B[0m: index 2 is out of bounds for axis 0 with size 2"
     ]
    }
   ],
   "execution_count": 11
  },
  {
   "metadata": {
    "ExecuteTime": {
     "end_time": "2024-08-01T18:12:10.438874Z",
     "start_time": "2024-08-01T18:12:10.152494Z"
    }
   },
   "cell_type": "code",
   "source": [
    "#graficando\n",
    "plt.plot(f, label='f')\n",
    "plt.plot([a, a+h], [f[a], f[a+h]], 'ro-', label='Derivada')\n",
    "plt.xlabel('Índice')\n",
    "plt.ylabel('Valor')\n",
    "plt.title('Gráfica de f y su derivada numérica')\n",
    "plt.legend()\n",
    "plt.show()"
   ],
   "id": "670e1e39ca7de5ce",
   "outputs": [
    {
     "ename": "IndexError",
     "evalue": "index 2 is out of bounds for axis 0 with size 2",
     "output_type": "error",
     "traceback": [
      "\u001B[1;31m---------------------------------------------------------------------------\u001B[0m",
      "\u001B[1;31mIndexError\u001B[0m                                Traceback (most recent call last)",
      "Cell \u001B[1;32mIn[12], line 3\u001B[0m\n\u001B[0;32m      1\u001B[0m \u001B[38;5;66;03m#graficando\u001B[39;00m\n\u001B[0;32m      2\u001B[0m plt\u001B[38;5;241m.\u001B[39mplot(f, label\u001B[38;5;241m=\u001B[39m\u001B[38;5;124m'\u001B[39m\u001B[38;5;124mf\u001B[39m\u001B[38;5;124m'\u001B[39m)\n\u001B[1;32m----> 3\u001B[0m plt\u001B[38;5;241m.\u001B[39mplot([a, a\u001B[38;5;241m+\u001B[39mh], [f[a], f[a\u001B[38;5;241m+\u001B[39mh]], \u001B[38;5;124m'\u001B[39m\u001B[38;5;124mro-\u001B[39m\u001B[38;5;124m'\u001B[39m, label\u001B[38;5;241m=\u001B[39m\u001B[38;5;124m'\u001B[39m\u001B[38;5;124mDerivada\u001B[39m\u001B[38;5;124m'\u001B[39m)\n\u001B[0;32m      4\u001B[0m plt\u001B[38;5;241m.\u001B[39mxlabel(\u001B[38;5;124m'\u001B[39m\u001B[38;5;124mÍndice\u001B[39m\u001B[38;5;124m'\u001B[39m)\n\u001B[0;32m      5\u001B[0m plt\u001B[38;5;241m.\u001B[39mylabel(\u001B[38;5;124m'\u001B[39m\u001B[38;5;124mValor\u001B[39m\u001B[38;5;124m'\u001B[39m)\n",
      "\u001B[1;31mIndexError\u001B[0m: index 2 is out of bounds for axis 0 with size 2"
     ]
    },
    {
     "data": {
      "text/plain": [
       "<Figure size 640x480 with 1 Axes>"
      ],
      "image/png": "[encoded data removed]"
     },
     "metadata": {},
     "output_type": "display_data"
    }
   ],
   "execution_count": 12
  },
  {
   "metadata": {},
   "cell_type": "code",
   "outputs": [],
   "execution_count": null,
   "source": "",
   "id": "7289b75ddf309d75"
  }
 ],
 "metadata": {
  "kernelspec": {
   "display_name": "Python 3",
   "language": "python",
   "name": "python3"
  },
  "language_info": {
   "codemirror_mode": {
    "name": "ipython",
    "version": 2
   },
   "file_extension": ".py",
   "mimetype": "text/x-python",
   "name": "python",
   "nbconvert_exporter": "python",
   "pygments_lexer": "ipython2",
   "version": "2.7.6"
  }
 },
 "nbformat": 4,
 "nbformat_minor": 5
}
